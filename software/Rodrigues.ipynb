{
 "cells": [
  {
   "cell_type": "markdown",
   "metadata": {},
   "source": [
    "# Cálculo explícito de los polinomios de Hermite utilizando la fórmula de Rodrigues\n",
    "**Juan Antonio Villegas Recio**\n",
    "> Nota: Este Notebook debe ser ejecutado utilizando un 'kernel' de SageMath, preferiblemente con una versión igual o superior a la 9.3."
   ]
  },
  {
   "cell_type": "markdown",
   "metadata": {},
   "source": [
    "El objetivo es implimentar un método de cálculo explícito de los polinomios de Hermite utilizando la fórmula de Rodrigues. También se harán algunas mediciones de tiempos de ejecución para compararlas con los tiempos calculados con la RR3T."
   ]
  },
  {
   "cell_type": "markdown",
   "metadata": {},
   "source": [
    "Los polinomios de Hermite son ortogonales respecto a la función peso $\\rho(x) = e^{-x^2}$ y verifican la ecuación de Pearson con $\\sigma(x)=1$, $x\\in\\mathbb R$. Por tanto, la fórmula de Rodrigues de los polinomios de Hermite, tomando por convenio $B_n=(-1)^n$ es\n",
    "$$\n",
    "H_n(x)=(-1)^n e^{x^2}\\frac{d^n}{dx^n}e^{x^{-2}}\n",
    "$$\n",
    "Creamos una función que recree esta fórmula, devolviendo un polinomio"
   ]
  },
  {
   "cell_type": "code",
   "execution_count": 39,
   "metadata": {},
   "outputs": [],
   "source": [
    "def Rodrigues_H(n):\n",
    "    Bn = (-1)**n\n",
    "    rho_inv = e**(x**2)\n",
    "    der = derivative(e**(-x**2),x,n)\n",
    "    return (Bn*rho_inv*der).full_simplify()"
   ]
  },
  {
   "cell_type": "markdown",
   "metadata": {},
   "source": [
    "Veámos los primeros 11 polinomios de Hermite, esta vez estandarizados como suelen ser presentados:"
   ]
  },
  {
   "cell_type": "code",
   "execution_count": 61,
   "metadata": {},
   "outputs": [
    {
     "name": "stdout",
     "output_type": "stream",
     "text": [
      "0: 1\n",
      "1: 2*x\n",
      "2: 4*x^2 - 2\n",
      "3: 8*x^3 - 12*x\n",
      "4: 16*x^4 - 48*x^2 + 12\n",
      "5: 32*x^5 - 160*x^3 + 120*x\n",
      "6: 64*x^6 - 480*x^4 + 720*x^2 - 120\n",
      "7: 128*x^7 - 1344*x^5 + 3360*x^3 - 1680*x\n",
      "8: 256*x^8 - 3584*x^6 + 13440*x^4 - 13440*x^2 + 1680\n",
      "9: 512*x^9 - 9216*x^7 + 48384*x^5 - 80640*x^3 + 30240*x\n",
      "10: 1024*x^10 - 23040*x^8 + 161280*x^6 - 403200*x^4 + 302400*x^2 - 30240\n"
     ]
    }
   ],
   "source": [
    "Npol = 11\n",
    "for i in range(Npol):\n",
    "    print(str(i) + \": \" + str(Rodrigues_H(i)))"
   ]
  },
  {
   "cell_type": "markdown",
   "metadata": {},
   "source": [
    "Recordemos los tiempos de cálculo que nos ofrecía el método que utilizaba la RR3T, los cuales eran elevados y crecían muy rápido con $n$. Comprobaremos si el cálculo mediante la fórmula de Rodrigues mejora o no a la RR3T. Para ello, y de manera análoga, haremos $10$ ejecuciones independientes del cálculo de cada polinomio y, mediante la media de los $10$ tiempos de ejecución encontraremos una estimación bastante acertada del tiempo medio de ejecución del cálculo de cada polinomio."
   ]
  },
  {
   "cell_type": "code",
   "execution_count": 62,
   "metadata": {},
   "outputs": [
    {
     "name": "stdout",
     "output_type": "stream",
     "text": [
      "0: 0.008675885200500489\n",
      "1: 0.010713315010070801\n",
      "2: 0.012655282020568847\n",
      "3: 0.01445021629333496\n",
      "4: 0.017413878440856935\n",
      "5: 0.021716094017028807\n",
      "6: 0.024535393714904784\n",
      "7: 0.019978260993957518\n",
      "8: 0.02009847164154053\n",
      "9: 0.0219860315322876\n",
      "10: 0.023472046852111815\n"
     ]
    }
   ],
   "source": [
    "import time\n",
    "Nejecuciones = 10\n",
    "tiempos_calculo = [[] for _ in range(Npol)]\n",
    "for i in range(Nejecuciones):\n",
    "    for j in range(Npol):\n",
    "        start_time = time.time()\n",
    "        Rodrigues_H(j)\n",
    "        tiempos_calculo[j].append(time.time() - start_time)\n",
    "\n",
    "for i in range(Npol):\n",
    "    print(str(i) + \": \" + str(sum(tiempos_calculo[i])/Nejecuciones))"
   ]
  },
  {
   "cell_type": "markdown",
   "metadata": {},
   "source": [
    "Como vemos, estos tiempos de cálculo son muchísimo menores que los calculados para la RR3T. De hecho, obsérvese el tiempo que tarda el programa en calcular el polinomio de Hermite de grado 500:"
   ]
  },
  {
   "cell_type": "code",
   "execution_count": 63,
   "metadata": {},
   "outputs": [
    {
     "data": {
      "text/plain": [
       "17.087850332260132"
      ]
     },
     "execution_count": 63,
     "metadata": {},
     "output_type": "execute_result"
    }
   ],
   "source": [
    "start_time = time.time()\n",
    "Rodrigues_H(500)\n",
    "time.time() - start_time"
   ]
  },
  {
   "cell_type": "markdown",
   "metadata": {},
   "source": [
    "Teniendo en cuenta que la RR3T tardaba aproximadamente un minuto en calcular el polinomio de grado 15, la mejora es sustancial."
   ]
  },
  {
   "cell_type": "code",
   "execution_count": 67,
   "metadata": {},
   "outputs": [
    {
     "name": "stdout",
     "output_type": "stream",
     "text": [
      "0| 0.009253740310668945 | 0.00019750595092773437\n",
      "1| 0.010477662086486816 | 0.00028862953186035154\n",
      "2| 0.013608288764953614 | 0.0003504037857055664\n",
      "3| 0.013358306884765626 | 0.0003786563873291016\n",
      "4| 0.016212320327758788 | 0.0004178285598754883\n",
      "5| 0.01828434467315674 | 0.0005173921585083008\n",
      "6| 0.01862807273864746 | 0.000535273551940918\n",
      "7| 0.019593262672424318 | 0.0005413055419921875\n",
      "8| 0.030555224418640135 | 0.0006180524826049805\n",
      "9| 0.0229586124420166 | 0.0006430625915527343\n",
      "10| 0.024494528770446777 | 0.0006523370742797851\n"
     ]
    }
   ],
   "source": [
    "import time\n",
    "Nejecuciones = 10\n",
    "tiempos_calculo_Rodrigues = [[] for _ in range(Npol)]\n",
    "tiempos_calculo_nativa = [[] for _ in range(Npol)]\n",
    "\n",
    "for i in range(Nejecuciones):\n",
    "    for j in range(Npol):\n",
    "        start_time = time.time()\n",
    "        Rodrigues_H(j)\n",
    "        tiempos_calculo_Rodrigues[j].append(time.time() - start_time)\n",
    "        \n",
    "        start_time = time.time()\n",
    "        hermite(j,x)(j)\n",
    "        tiempos_calculo_nativa[j].append(time.time() - start_time)\n",
    "\n",
    "for i in range(Npol):\n",
    "    print(str(i) + \"| \" + str(sum(tiempos_calculo_Rodrigues[i])/Nejecuciones) + \\\n",
    "          \" | \" + str(sum(tiempos_calculo_nativa[i])/Nejecuciones))"
   ]
  },
  {
   "cell_type": "markdown",
   "metadata": {},
   "source": [
    "# Gráficas interactivas"
   ]
  },
  {
   "cell_type": "code",
   "execution_count": 6,
   "metadata": {},
   "outputs": [],
   "source": [
    "from sage.repl.ipython_kernel.interact import interact"
   ]
  },
  {
   "cell_type": "markdown",
   "metadata": {},
   "source": [
    "## Hermite"
   ]
  },
  {
   "cell_type": "code",
   "execution_count": 30,
   "metadata": {},
   "outputs": [
    {
     "data": {
      "application/vnd.jupyter.widget-view+json": {
       "model_id": "c20d67a3e9944ed68308e413364ee483",
       "version_major": 2,
       "version_minor": 0
      },
      "text/plain": [
       "Interactive function <function Hermite_plot at 0x7fc4b209b3a0> with 3 widgets\n",
       "  n: IntSlider(value=5, descript…"
      ]
     },
     "metadata": {},
     "output_type": "display_data"
    }
   ],
   "source": [
    "@interact\n",
    "def Hermite_plot(n=(0,10), a=(-10,0,0.1), b=(0,10,0.1)):\n",
    "    pol = Rodrigues_H(n)\n",
    "    plot(pol, a, b, color='red').show()\n"
   ]
  },
  {
   "cell_type": "markdown",
   "metadata": {},
   "source": [
    "## Laguerre"
   ]
  },
  {
   "cell_type": "code",
   "execution_count": 38,
   "metadata": {},
   "outputs": [
    {
     "data": {
      "application/vnd.jupyter.widget-view+json": {
       "model_id": "467e1745ac8047619aeb9655d0fcb346",
       "version_major": 2,
       "version_minor": 0
      },
      "text/plain": [
       "Interactive function <function Laguerre_plot at 0x7fc4b289aa60> with 4 widgets\n",
       "  n: IntSlider(value=5, descrip…"
      ]
     },
     "metadata": {},
     "output_type": "display_data"
    }
   ],
   "source": [
    "def Rodrigues_L(n, alpha):\n",
    "    Bn = 1/factorial(n)\n",
    "    rho_inv = pow(x,-alpha)*e**x\n",
    "    der = derivative(x**(n+alpha)*e**(-x),x,n)\n",
    "    return (Bn*rho_inv*der).full_simplify()\n",
    "\n",
    "@interact\n",
    "def Laguerre_plot(n=(0,10), alpha=(0,10), a=(0,1,0.1), b=(1,50,0.1)):\n",
    "    pol = Rodrigues_L(n, alpha)\n",
    "    plot(pol, x, a, b, color='red').show()"
   ]
  },
  {
   "cell_type": "markdown",
   "metadata": {},
   "source": [
    "## Jacobi"
   ]
  },
  {
   "cell_type": "code",
   "execution_count": 50,
   "metadata": {},
   "outputs": [
    {
     "data": {
      "application/vnd.jupyter.widget-view+json": {
       "model_id": "f3ba3563922345269822dcf3408337c3",
       "version_major": 2,
       "version_minor": 0
      },
      "text/plain": [
       "Interactive function <function plot_Jacobi at 0x7fc4b27c8160> with 5 widgets\n",
       "  n: IntSlider(value=5, descripti…"
      ]
     },
     "metadata": {},
     "output_type": "display_data"
    }
   ],
   "source": [
    "def Rodrigues_J(n, alpha, beta):\n",
    "    Bn = (-1)**n/(2**n*factorial(n))\n",
    "    rho_inv = pow(1-x, -alpha)*pow(1+x, -beta)\n",
    "    der = derivative(pow(1-x, n+alpha)*pow(1+x, n+beta),x,n)\n",
    "    return Bn*rho_inv*der\n",
    "\n",
    "@interact\n",
    "def plot_Jacobi(n=(0,10), alpha=(0,10), beta=(0,10), a=(-1,0,0.1), b=(0,1,0.1)):\n",
    "    pol = Rodrigues_J(n, alpha, beta)\n",
    "    plot(pol, x, a, b, color='red').show()"
   ]
  }
 ],
 "metadata": {
  "kernelspec": {
   "display_name": "SageMath 9.3",
   "language": "sage",
   "name": "sagemath"
  },
  "language_info": {
   "codemirror_mode": {
    "name": "ipython",
    "version": 3
   },
   "file_extension": ".py",
   "mimetype": "text/x-python",
   "name": "python",
   "nbconvert_exporter": "python",
   "pygments_lexer": "ipython3",
   "version": "3.9.2"
  }
 },
 "nbformat": 4,
 "nbformat_minor": 4
}
