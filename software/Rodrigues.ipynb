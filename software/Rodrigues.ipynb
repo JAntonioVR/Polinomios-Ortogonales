{
 "cells": [
  {
   "cell_type": "markdown",
   "metadata": {},
   "source": [
    "# Cálculo explícito de los polinomios de Hermite utilizando la fórmula de Rodrigues\n",
    "**Juan Antonio Villegas Recio**\n",
    "> Nota: Este Notebook debe ser ejecutado utilizando un 'kernel' de SageMath, preferiblemente con una versión igual o superior a la 9.3."
   ]
  },
  {
   "cell_type": "markdown",
   "metadata": {},
   "source": [
    "El objetivo es implimentar un método de cálculo explícito de los polinomios de Hermite utilizando la fórmula de Rodrigues. También se harán algunas mediciones de tiempos de ejecución para compararlas con los tiempos calculados con la RR3T."
   ]
  },
  {
   "cell_type": "markdown",
   "metadata": {},
   "source": [
    "Los polinomios de Hermite son ortogonales respecto a la función peso $\\rho(x) = e^{-x^2}$ y verifican la ecuación de Pearson con $\\sigma(x)=1$, $x\\in\\mathbb R$. Por tanto, la fórmula de Rodrigues de los polinomios de Hermite, tomando por convenio $B_n=(-1)^n$ es\n",
    "$$\n",
    "H_n(x)=(-1)^n e^{x^2}\\frac{d^n}{dx^n}e^{x^{-2}}\n",
    "$$\n",
    "Creamos una función que recree esta fórmula, devolviendo un polinomio"
   ]
  },
  {
   "cell_type": "code",
   "execution_count": 1,
   "metadata": {},
   "outputs": [],
   "source": [
    "def Rodrigues_H(n):\n",
    "    Bn = (-1)**n\n",
    "    rho_inv = e**(x**2)\n",
    "    der = derivative(e**(-x**2),x,n)\n",
    "    return (Bn*rho_inv*der).full_simplify()"
   ]
  },
  {
   "cell_type": "markdown",
   "metadata": {},
   "source": [
    "Veámos los primeros 11 polinomios de Hermite, esta vez estandarizados como suelen ser presentados:"
   ]
  },
  {
   "cell_type": "code",
   "execution_count": 2,
   "metadata": {},
   "outputs": [
    {
     "name": "stdout",
     "output_type": "stream",
     "text": [
      "0: 1\n",
      "1: 2*x\n",
      "2: 4*x^2 - 2\n",
      "3: 8*x^3 - 12*x\n",
      "4: 16*x^4 - 48*x^2 + 12\n",
      "5: 32*x^5 - 160*x^3 + 120*x\n",
      "6: 64*x^6 - 480*x^4 + 720*x^2 - 120\n",
      "7: 128*x^7 - 1344*x^5 + 3360*x^3 - 1680*x\n",
      "8: 256*x^8 - 3584*x^6 + 13440*x^4 - 13440*x^2 + 1680\n",
      "9: 512*x^9 - 9216*x^7 + 48384*x^5 - 80640*x^3 + 30240*x\n",
      "10: 1024*x^10 - 23040*x^8 + 161280*x^6 - 403200*x^4 + 302400*x^2 - 30240\n"
     ]
    }
   ],
   "source": [
    "Npol = 11\n",
    "for i in range(Npol):\n",
    "    print(str(i) + \": \" + str(Rodrigues_H(i)))"
   ]
  },
  {
   "cell_type": "markdown",
   "metadata": {},
   "source": [
    "Recordemos los tiempos de cálculo que nos ofrecía el método que utilizaba la RR3T, los cuales eran elevados y crecían muy rápido con $n$. Comprobaremos si el cálculo mediante la fórmula de Rodrigues mejora o no a la RR3T. Para ello, y de manera análoga, haremos $10$ ejecuciones independientes del cálculo de cada polinomio y, mediante la media de los $10$ tiempos de ejecución encontraremos una estimación bastante acertada del tiempo medio de ejecución del cálculo de cada polinomio."
   ]
  },
  {
   "cell_type": "code",
   "execution_count": 3,
   "metadata": {},
   "outputs": [
    {
     "name": "stdout",
     "output_type": "stream",
     "text": [
      "0: 0.005807614326477051\n",
      "1: 0.006104421615600586\n",
      "2: 0.010196661949157715\n",
      "3: 0.011128950119018554\n",
      "4: 0.012458896636962891\n",
      "5: 0.013657307624816895\n",
      "6: 0.015689682960510255\n",
      "7: 0.015236687660217286\n",
      "8: 0.017473483085632326\n",
      "9: 0.0176588773727417\n",
      "10: 0.019971156120300294\n"
     ]
    }
   ],
   "source": [
    "import time\n",
    "Nejecuciones = 10\n",
    "tiempos_calculo = [[] for _ in range(Npol)]\n",
    "for i in range(Nejecuciones):\n",
    "    for j in range(Npol):\n",
    "        start_time = time.time()\n",
    "        Rodrigues_H(j)\n",
    "        tiempos_calculo[j].append(time.time() - start_time)\n",
    "\n",
    "for i in range(Npol):\n",
    "    print(str(i) + \": \" + str(sum(tiempos_calculo[i])/Nejecuciones))"
   ]
  },
  {
   "cell_type": "markdown",
   "metadata": {},
   "source": [
    "Como vemos, estos tiempos de cálculo son muchísimo menores que los calculados para la RR3T. De hecho, obsérvese el tiempo que tarda el programa en calcular el polinomio de Hermite de grado 500:"
   ]
  },
  {
   "cell_type": "code",
   "execution_count": 4,
   "metadata": {},
   "outputs": [
    {
     "data": {
      "text/plain": [
       "14.230994701385498"
      ]
     },
     "execution_count": 4,
     "metadata": {},
     "output_type": "execute_result"
    }
   ],
   "source": [
    "start_time = time.time()\n",
    "Rodrigues_H(500)\n",
    "time.time() - start_time"
   ]
  },
  {
   "cell_type": "markdown",
   "metadata": {},
   "source": [
    "Teniendo en cuenta que la RR3T tardaba aproximadamente un minuto en calcular el polinomio de grado 15, la mejora es sustancial."
   ]
  },
  {
   "cell_type": "code",
   "execution_count": 18,
   "metadata": {},
   "outputs": [
    {
     "name": "stdout",
     "output_type": "stream",
     "text": [
      "0| 0.006218743324279785 | 3.731250762939453e-05\n",
      "1| 0.0063496589660644535 | 5.133152008056641e-05\n",
      "2| 0.010147571563720703 | 5.2356719970703124e-05\n",
      "3| 0.011404705047607423 | 5.2642822265625e-05\n",
      "4| 0.011712932586669922 | 6.182193756103516e-05\n",
      "5| 0.01345682144165039 | 5.156993865966797e-05\n",
      "6| 0.013954901695251464 | 5.514621734619141e-05\n",
      "7| 0.01592717170715332 | 5.68389892578125e-05\n",
      "8| 0.01737191677093506 | 5.939006805419922e-05\n",
      "9| 0.01779806613922119 | 5.5694580078125e-05\n",
      "10| 0.020224928855895996 | 5.893707275390625e-05\n"
     ]
    }
   ],
   "source": [
    "import time\n",
    "Nejecuciones = 10\n",
    "tiempos_calculo_Rodrigues = [[] for _ in range(Npol)]\n",
    "tiempos_calculo_nativa = [[] for _ in range(Npol)]\n",
    "\n",
    "for i in range(Nejecuciones):\n",
    "    for j in range(Npol):\n",
    "        start_time = time.time()\n",
    "        Rodrigues_H(j)\n",
    "        tiempos_calculo_Rodrigues[j].append(time.time() - start_time)\n",
    "        \n",
    "        start_time = time.time()\n",
    "        hermite(j,x)\n",
    "        tiempos_calculo_nativa[j].append(time.time() - start_time)\n",
    "\n",
    "for i in range(Npol):\n",
    "    print(str(i) + \"| \" + str(sum(tiempos_calculo_Rodrigues[i])/Nejecuciones) + \\\n",
    "          \" | \" + str(sum(tiempos_calculo_nativa[i])/Nejecuciones))"
   ]
  }
 ],
 "metadata": {
  "kernelspec": {
   "display_name": "SageMath 9.3",
   "language": "sage",
   "name": "sagemath"
  },
  "language_info": {
   "codemirror_mode": {
    "name": "ipython",
    "version": 3
   },
   "file_extension": ".py",
   "mimetype": "text/x-python",
   "name": "python",
   "nbconvert_exporter": "python",
   "pygments_lexer": "ipython3",
   "version": "3.9.2"
  }
 },
 "nbformat": 4,
 "nbformat_minor": 4
}
