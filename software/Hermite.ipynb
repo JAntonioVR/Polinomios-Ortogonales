{
 "cells": [
  {
   "cell_type": "markdown",
   "metadata": {},
   "source": [
    "# Cálculo explícito de los polinomios de Hermite utilizando la RRTT\n",
    "**Juan Antonio Villegas Recio**\n",
    "> Nota: Este Notebook debe ser ejecutado utilizando un 'kernel' de SageMath, preferiblemente con una versión igual o superior a la 9.3."
   ]
  },
  {
   "cell_type": "markdown",
   "metadata": {},
   "source": [
    "El objetivo es hallar una sucesión de polinomios ortogonales mónicos de Hermite utilizando `SageMath`, haciendo algunas mediciones de tiempos de ejecución.\n",
    "\n",
    "Primero de todo, importamos funciones para realizar integrales y creamos `P`, que es el equivalente al anillo de polinomios con coeficientes racionales $\\mathbb Q[x]$."
   ]
  },
  {
   "cell_type": "code",
   "execution_count": 1,
   "metadata": {},
   "outputs": [],
   "source": [
    "from sage.symbolic.integration.integral import integrate\n",
    "P.<x> = PolynomialRing(QQ)"
   ]
  },
  {
   "cell_type": "markdown",
   "metadata": {},
   "source": [
    "Los polinomios de Hermite son ortogonales respecto a la función peso $\\rho(x) = e^{-x^2}$, $\\forall x\\in\\mathbb R$. Esta función peso puede dar lugar bien al producto escalar \n",
    "$$\\left\\langle f,g\\right\\rangle=\\int_{-\\infty}^{+\\infty}f(x)g(x) e^{-x^2}dx$$\n",
    "o bien al funcional lineal\n",
    "$$\\mathcal{L}[f] = \\int_{-\\infty}^{+\\infty} f(x) e^{-x^2}dx.$$\n",
    "Creamos funciones para ambos casos, aunque de acuerdo a la RRTT utilizaremos únicamente la correspondiente al funcional lineal."
   ]
  },
  {
   "cell_type": "code",
   "execution_count": 2,
   "metadata": {},
   "outputs": [],
   "source": [
    "def dot_H(f,g):\n",
    "    return integrate(f*g*e**(-x**2), x, -infinity, infinity)\n",
    "\n",
    "def L(f):\n",
    "    return integrate(f*e**(-x**2), x, -infinity, infinity)"
   ]
  },
  {
   "cell_type": "markdown",
   "metadata": {},
   "source": [
    "Finalmente creamos una función que, dado $n$, calcule el $n$-ésimo polinomio de Hermite utilizando la RRTT."
   ]
  },
  {
   "cell_type": "code",
   "execution_count": 3,
   "metadata": {},
   "outputs": [],
   "source": [
    "def RRTT_H(n):\n",
    "    if n == -1:\n",
    "        return P(0)\n",
    "    elif n == 0:\n",
    "        return P(1)\n",
    "    else:\n",
    "        P_1 = RRTT_H(n-1)\n",
    "        P_2 = RRTT_H(n-2)\n",
    "        beta = L(x*P_1**2)/L(P_1**2)\n",
    "        if P_2 == P(0):\n",
    "            return P((x-beta)*P_1)\n",
    "        else:\n",
    "            gamma = L(x*P_1*P_2)/L(P_2**2)\n",
    "            return P((x-beta)*P_1 - gamma*P_2)"
   ]
  },
  {
   "cell_type": "markdown",
   "metadata": {},
   "source": [
    "Véamos entonces los $11$ primeros polinomios de Hermite:"
   ]
  },
  {
   "cell_type": "code",
   "execution_count": 4,
   "metadata": {},
   "outputs": [
    {
     "name": "stdout",
     "output_type": "stream",
     "text": [
      "0: 1\n",
      "1: x\n",
      "2: x^2 - 1/2\n",
      "3: x^3 - 3/2*x\n",
      "4: x^4 - 3*x^2 + 3/4\n",
      "5: x^5 - 5*x^3 + 15/4*x\n",
      "6: x^6 - 15/2*x^4 + 45/4*x^2 - 15/8\n",
      "7: x^7 - 21/2*x^5 + 105/4*x^3 - 105/8*x\n",
      "8: x^8 - 14*x^6 + 105/2*x^4 - 105/2*x^2 + 105/16\n",
      "9: x^9 - 18*x^7 + 189/2*x^5 - 315/2*x^3 + 945/16*x\n",
      "10: x^10 - 45/2*x^8 + 315/2*x^6 - 1575/4*x^4 + 4725/16*x^2 - 945/32\n"
     ]
    }
   ],
   "source": [
    "Npol = 11\n",
    "for i in range(Npol):\n",
    "    print(str(i) + \": \" + str(RRTT_H(i)))"
   ]
  },
  {
   "cell_type": "markdown",
   "metadata": {},
   "source": [
    "Con el objetivo de hacer un análisis empírico de la eficiencia de este método, haremos $10$ ejecuciones independientes del cálculo de cada polinomio y, mediante la media de los $10$ tiempos de ejecución encontraremos una estimación bastante acertada del tiempo medio de ejecución del cálculo de cada polinomio."
   ]
  },
  {
   "cell_type": "code",
   "execution_count": 5,
   "metadata": {},
   "outputs": [
    {
     "name": "stdout",
     "output_type": "stream",
     "text": [
      "0: 1.3947486877441406e-05\n",
      "1: 0.012504243850708007\n",
      "2: 0.035882997512817386\n",
      "3: 0.08060078620910645\n",
      "4: 0.18062944412231446\n",
      "5: 0.3200950860977173\n",
      "6: 0.5618398427963257\n",
      "7: 0.9245841979980469\n",
      "8: 1.564754319190979\n",
      "9: 2.508538317680359\n",
      "10: 4.220493936538697\n"
     ]
    }
   ],
   "source": [
    "import time\n",
    "Nejecuciones = 10\n",
    "tiempos_calculo = [[] for _ in range(Npol)]\n",
    "for i in range(Nejecuciones):\n",
    "    for j in range(Npol):\n",
    "        start_time = time.time()\n",
    "        RRTT_H(j)\n",
    "        tiempos_calculo[j].append(time.time() - start_time)\n",
    "\n",
    "for i in range(Npol):\n",
    "    print(str(i) + \": \" + str(sum(tiempos_calculo[i])/Nejecuciones))"
   ]
  },
  {
   "cell_type": "markdown",
   "metadata": {},
   "source": [
    "Si en lugar de $10$ se desea realizar un número distinto de ejecuciones basta con cambiar el valor de la variable `Nejecuciones`, y si en lugar de calcular los $11$ primeros polinomios de Hermite se desean calcular más o menos se sugiere modificar la variable `Npol`.\n",
    "\n",
    "Vemos en este caso con las 10 ejecuciones de los 11 primeros polinomios de Hermite que el tiempo de ejecución crece rápidamente con $n$. Probemos cuánto tardaría el programa en calcular $P_{15}$."
   ]
  },
  {
   "cell_type": "code",
   "execution_count": 6,
   "metadata": {},
   "outputs": [
    {
     "data": {
      "text/plain": [
       "44.45831632614136"
      ]
     },
     "execution_count": 6,
     "metadata": {},
     "output_type": "execute_result"
    }
   ],
   "source": [
    "start_time = time.time()\n",
    "RRTT_H(15)\n",
    "time.time() - start_time"
   ]
  },
  {
   "cell_type": "markdown",
   "metadata": {},
   "source": [
    "Cerca de un minuto, por lo que este método no escala demasiado bien.\n",
    "\n",
    "Sin embargo, es un método bastante robusto, pues basta con cambiar el funcional $\\mathcal L$ para obtener otras SPO. Por ejemplo, si tomamos $\\rho(x)=\\dfrac{e^{-x}x^\\alpha}{\\Gamma(\\alpha+1)}, \\alpha>-1$, $x\\in(0,+\\infty)$ calcularíamos los polinomios de Laguerre. O con $\\rho(x)=\\dfrac{(1-x)^\\alpha(1+x)^\\beta}{2^{\\alpha+\\beta+1}B(\\alpha+1,\\beta+1)}, \\alpha,\\beta > -1$, $x\\in(-1,1)$ podríamos deducir los polinomios de Jacobi."
   ]
  },
  {
   "cell_type": "markdown",
   "metadata": {},
   "source": [
    "Finalmente, mencionar que el propio software `SageMath` nos proporciona de forma nativa funcionalidad para el cálculo y manejo de polinomios ortogonales:"
   ]
  },
  {
   "cell_type": "code",
   "execution_count": 7,
   "metadata": {},
   "outputs": [
    {
     "name": "stdout",
     "output_type": "stream",
     "text": [
      "Polinomios de Hermite:\n",
      "0: 1\n",
      "1: 2*x\n",
      "2: 4*x^2 - 2\n",
      "3: 8*x^3 - 12*x\n",
      "4: 16*x^4 - 48*x^2 + 12\n",
      "5: 32*x^5 - 160*x^3 + 120*x\n",
      "6: 64*x^6 - 480*x^4 + 720*x^2 - 120\n",
      "7: 128*x^7 - 1344*x^5 + 3360*x^3 - 1680*x\n",
      "8: 256*x^8 - 3584*x^6 + 13440*x^4 - 13440*x^2 + 1680\n",
      "9: 512*x^9 - 9216*x^7 + 48384*x^5 - 80640*x^3 + 30240*x\n",
      "10: 1024*x^10 - 23040*x^8 + 161280*x^6 - 403200*x^4 + 302400*x^2 - 30240\n",
      "En total, el programa ha tardado 0.006974935531616211 segundos\n"
     ]
    }
   ],
   "source": [
    "t_acum = 0\n",
    "print(\"Polinomios de Hermite:\")\n",
    "for i in range(Npol):\n",
    "    start_time = time.time()\n",
    "    pol = hermite(i,x)\n",
    "    t_acum += time.time() - start_time\n",
    "    print(str(i) + \": \" + str(pol))\n",
    "print(\"En total, el programa ha tardado \" + str(t_acum) + \" segundos\")"
   ]
  },
  {
   "cell_type": "markdown",
   "metadata": {},
   "source": [
    "Vemos que la biblioteca nativa de Sage tarda mucho menos que el cálculo mediante la RRTT."
   ]
  },
  {
   "cell_type": "code",
   "execution_count": 8,
   "metadata": {},
   "outputs": [
    {
     "name": "stdout",
     "output_type": "stream",
     "text": [
      "Polinomios de Jacobi para alpha=1, beta=2:\n",
      "0: 1\n",
      "1: 5/2*x - 1/2\n",
      "2: 21/4*x^2 - 3/2*x - 3/4\n",
      "3: 21/2*x^3 - 7/2*x^2 - 7/2*x + 1/2\n",
      "4: 165/8*x^4 - 15/2*x^3 - 45/4*x^2 + 5/2*x + 5/8\n",
      "5: 1287/32*x^5 - 495/32*x^4 - 495/16*x^3 + 135/16*x^2 + 135/32*x - 15/32\n",
      "6: 5005/64*x^6 - 1001/32*x^5 - 5005/64*x^4 + 385/16*x^3 + 1155/64*x^2 - 105/32*x - 35/64\n",
      "7: 2431/16*x^7 - 1001/16*x^6 - 3003/16*x^5 + 1001/16*x^4 + 1001/16*x^3 - 231/16*x^2 - 77/16*x + 7/16\n",
      "8: 37791/128*x^8 - 1989/16*x^7 - 13923/32*x^6 + 2457/16*x^5 + 12285/64*x^4 - 819/16*x^3 - 819/32*x^2 + 63/16*x + 63/128\n",
      "9: 146965/256*x^9 - 62985/256*x^8 - 62985/64*x^7 + 23205/64*x^6 + 69615/128*x^5 - 20475/128*x^4 - 6825/64*x^3 + 1365/64*x^2 + 1365/256*x - 105/256\n",
      "10: 572033/512*x^10 - 124355/256*x^9 - 1119195/512*x^8 + 53295/64*x^7 + 373065/256*x^6 - 58905/128*x^5 - 98175/256*x^4 + 5775/64*x^3 + 17325/512*x^2 - 1155/256*x - 231/512\n",
      "En total, el programa ha tardado 0.2375941276550293 segundos\n"
     ]
    }
   ],
   "source": [
    "print(\"Polinomios de Jacobi para alpha=1, beta=2:\")\n",
    "for i in range(Npol):\n",
    "    start_time = time.time()\n",
    "    pol = jacobi_P(i,1,2,x)\n",
    "    t_acum += time.time() - start_time\n",
    "    print(str(i) + \": \" + str(pol))\n",
    "print(\"En total, el programa ha tardado \" + str(t_acum) + \" segundos\")"
   ]
  }
 ],
 "metadata": {
  "kernelspec": {
   "display_name": "SageMath 9.3",
   "language": "sage",
   "name": "sagemath"
  },
  "language_info": {
   "codemirror_mode": {
    "name": "ipython",
    "version": 3
   },
   "file_extension": ".py",
   "mimetype": "text/x-python",
   "name": "python",
   "nbconvert_exporter": "python",
   "pygments_lexer": "ipython3",
   "version": "3.9.2"
  }
 },
 "nbformat": 4,
 "nbformat_minor": 4
}
