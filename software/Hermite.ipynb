{
 "cells": [
  {
   "cell_type": "markdown",
   "metadata": {},
   "source": [
    "# Cálculo explícito de los polinomios de Hermite utilizando la RR3T\n",
    "**Juan Antonio Villegas Recio**\n",
    "> Nota: Este Notebook debe ser ejecutado utilizando un 'kernel' de SageMath, preferiblemente con una versión igual o superior a la 9.3."
   ]
  },
  {
   "cell_type": "markdown",
   "metadata": {},
   "source": [
    "El objetivo es hallar una sucesión de polinomios ortogonales mónicos de Hermite utilizando `SageMath`, haciendo algunas mediciones de tiempos de ejecución.\n",
    "\n",
    "Primero de todo, importamos funciones para realizar integrales y creamos `P`, que es el equivalente al anillo de polinomios con coeficientes racionales $\\mathbb Q[x]$."
   ]
  },
  {
   "cell_type": "code",
   "execution_count": 1,
   "metadata": {},
   "outputs": [],
   "source": [
    "from sage.symbolic.integration.integral import integrate\n",
    "P.<x> = PolynomialRing(QQ)"
   ]
  },
  {
   "cell_type": "markdown",
   "metadata": {},
   "source": [
    "Los polinomios de Hermite son ortogonales respecto a la función peso $\\rho(x) = e^{-x^2}$, $\\forall x\\in\\mathbb R$. Esta función peso puede dar lugar bien al producto escalar \n",
    "$$\\left\\langle f,g\\right\\rangle=\\int_{-\\infty}^{+\\infty}f(x)g(x) e^{-x^2}dx$$\n",
    "o bien al funcional lineal\n",
    "$$\\mathcal{L}[f] = \\int_{-\\infty}^{+\\infty} f(x) e^{-x^2}dx.$$\n",
    "Creamos funciones para ambos casos, aunque de acuerdo a la RR3T utilizaremos únicamente la correspondiente al funcional lineal."
   ]
  },
  {
   "cell_type": "code",
   "execution_count": 2,
   "metadata": {},
   "outputs": [],
   "source": [
    "def dot_H(f,g):\n",
    "    return integrate(f*g*e**(-x**2), x, -infinity, infinity)\n",
    "\n",
    "def L(f):\n",
    "    return integrate(f*e**(-x**2), x, -infinity, infinity)"
   ]
  },
  {
   "cell_type": "markdown",
   "metadata": {},
   "source": [
    "Finalmente creamos una función que, dado $n$, calcule el $n$-ésimo polinomio de Hermite utilizando la RR3T."
   ]
  },
  {
   "cell_type": "code",
   "execution_count": 3,
   "metadata": {},
   "outputs": [],
   "source": [
    "def RR3T_H(n):\n",
    "    if n == -1:\n",
    "        return P(0)\n",
    "    elif n == 0:\n",
    "        return P(1)\n",
    "    else:\n",
    "        P_1 = RR3T_H(n-1)\n",
    "        P_2 = RR3T_H(n-2)\n",
    "        beta = L(x*P_1**2)/L(P_1**2)\n",
    "        if P_2 == P(0):\n",
    "            return P((x-beta)*P_1)\n",
    "        else:\n",
    "            gamma = L(x*P_1*P_2)/L(P_2**2)\n",
    "            return P((x-beta)*P_1 - gamma*P_2)"
   ]
  },
  {
   "cell_type": "markdown",
   "metadata": {},
   "source": [
    "Véamos entonces los $11$ primeros polinomios de Hermite:"
   ]
  },
  {
   "cell_type": "code",
   "execution_count": 4,
   "metadata": {},
   "outputs": [
    {
     "name": "stdout",
     "output_type": "stream",
     "text": [
      "0: 1\n",
      "1: x\n",
      "2: x^2 - 1/2\n",
      "3: x^3 - 3/2*x\n",
      "4: x^4 - 3*x^2 + 3/4\n",
      "5: x^5 - 5*x^3 + 15/4*x\n",
      "6: x^6 - 15/2*x^4 + 45/4*x^2 - 15/8\n",
      "7: x^7 - 21/2*x^5 + 105/4*x^3 - 105/8*x\n",
      "8: x^8 - 14*x^6 + 105/2*x^4 - 105/2*x^2 + 105/16\n",
      "9: x^9 - 18*x^7 + 189/2*x^5 - 315/2*x^3 + 945/16*x\n",
      "10: x^10 - 45/2*x^8 + 315/2*x^6 - 1575/4*x^4 + 4725/16*x^2 - 945/32\n"
     ]
    }
   ],
   "source": [
    "Npol = 11\n",
    "for i in range(Npol):\n",
    "    print(str(i) + \": \" + str(RR3T_H(i)))"
   ]
  },
  {
   "cell_type": "markdown",
   "metadata": {},
   "source": [
    "Con el objetivo de hacer un análisis empírico de la eficiencia de este método, haremos $10$ ejecuciones independientes del cálculo de cada polinomio y, mediante la media de los $10$ tiempos de ejecución encontraremos una estimación bastante acertada del tiempo medio de ejecución del cálculo de cada polinomio."
   ]
  },
  {
   "cell_type": "code",
   "execution_count": 5,
   "metadata": {},
   "outputs": [
    {
     "name": "stdout",
     "output_type": "stream",
     "text": [
      "0: 1.4853477478027343e-05\n",
      "1: 0.014149808883666992\n",
      "2: 0.038803386688232425\n",
      "3: 0.09683995246887207\n",
      "4: 0.1985522747039795\n",
      "5: 0.35666980743408205\n",
      "6: 0.633054780960083\n",
      "7: 1.074570655822754\n",
      "8: 1.8145904779434203\n",
      "9: 2.984163427352905\n",
      "10: 4.941139125823975\n"
     ]
    }
   ],
   "source": [
    "import time\n",
    "Nejecuciones = 10\n",
    "tiempos_calculo = [[] for _ in range(Npol)]\n",
    "for i in range(Nejecuciones):\n",
    "    for j in range(Npol):\n",
    "        start_time = time.time()\n",
    "        RR3T_H(j)\n",
    "        tiempos_calculo[j].append(time.time() - start_time)\n",
    "\n",
    "for i in range(Npol):\n",
    "    print(str(i) + \": \" + str(sum(tiempos_calculo[i])/Nejecuciones))"
   ]
  },
  {
   "cell_type": "markdown",
   "metadata": {},
   "source": [
    "Si en lugar de $10$ se desea realizar un número distinto de ejecuciones basta con cambiar el valor de la variable `Nejecuciones`, y si en lugar de calcular los $11$ primeros polinomios de Hermite se desean calcular más o menos se sugiere modificar la variable `Npol`.\n",
    "\n",
    "Vemos en este caso con las 10 ejecuciones de los 11 primeros polinomios de Hermite que el tiempo de ejecución crece rápidamente con $n$. Probemos cuánto tardaría el programa en calcular $P_{15}$."
   ]
  },
  {
   "cell_type": "code",
   "execution_count": 6,
   "metadata": {},
   "outputs": [
    {
     "data": {
      "text/plain": [
       "55.52601671218872"
      ]
     },
     "execution_count": 6,
     "metadata": {},
     "output_type": "execute_result"
    }
   ],
   "source": [
    "start_time = time.time()\n",
    "RR3T_H(15)\n",
    "time.time() - start_time"
   ]
  },
  {
   "cell_type": "markdown",
   "metadata": {},
   "source": [
    "Cerca de un minuto, por lo que este método no escala demasiado bien."
   ]
  }
 ],
 "metadata": {
  "kernelspec": {
   "display_name": "SageMath 9.3",
   "language": "sage",
   "name": "sagemath"
  },
  "language_info": {
   "codemirror_mode": {
    "name": "ipython",
    "version": 3
   },
   "file_extension": ".py",
   "mimetype": "text/x-python",
   "name": "python",
   "nbconvert_exporter": "python",
   "pygments_lexer": "ipython3",
   "version": "3.9.2"
  }
 },
 "nbformat": 4,
 "nbformat_minor": 4
}
